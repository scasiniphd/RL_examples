{
 "cells": [
  {
   "cell_type": "markdown",
   "metadata": {},
   "source": [
    "https://github.com/BY571/Medium_Code_Examples/blob/master/Gridworld/Monte%20Carlo%20Methods%20Examples.ipynb\n",
    "https://github.com/dennybritz/reinforcement-learning/blob/master/lib/envs/blackjack.py\n",
    "https://towardsdatascience.com/reinforcement-learning-implement-grid-world-from-scratch-c5963765ebff"
   ]
  },
  {
   "cell_type": "code",
   "execution_count": 1,
   "metadata": {},
   "outputs": [],
   "source": [
    "import copy\n",
    "from collections import defaultdict\n",
    "\n",
    "import matplotlib.pyplot as plt\n",
    "import numpy as np\n",
    "import seaborn as sns\n",
    "from gridworld import *\n",
    "\n",
    "plt.rcParams['font.family'] = \"serif\""
   ]
  },
  {
   "cell_type": "code",
   "execution_count": 2,
   "metadata": {},
   "outputs": [],
   "source": [
    "# init the environment:\n",
    "seed_ = 1926\n",
    "max_episodes = 3000\n",
    "env = Gridworld(step_cost=-0.1,max_ep_length=30)\n",
    "Returns = {\"0\":[], \"1\":[], \"2\":[], \"3\":[],\n",
    "           \"4\":[], \"5\":[], \"6\":[], \"7\":[],\n",
    "           \"8\":[], \"9\":[], \"10\":[], \"11\":[]}\n",
    "V = defaultdict(float)\n",
    "for i in range(12):\n",
    "    V[i] = 0\n",
    "V[3] = 1 # Goal\n",
    "V[7] = -1 # Death\n",
    "V[5] = 0 # Rock\n",
    "g = 0.99 # discounting factor\n",
    "\n",
    "returns_sum = defaultdict(float)\n",
    "returns_count = defaultdict(float)"
   ]
  },
  {
   "cell_type": "code",
   "execution_count": 3,
   "metadata": {},
   "outputs": [],
   "source": [
    "for i_episode in range(1, max_episodes + 1):\n",
    "\n",
    "    # Generate an episode.\n",
    "    # An episode is an array of (state, action, reward) tuples\n",
    "    episode = []\n",
    "    state = env.reset()\n",
    "    # np.random.seed(seed_)\n",
    "    for t in range(max_episodes):\n",
    "        action = np.random.randint(4) #random policy\n",
    "        next_state, reward, done = env.step(action)\n",
    "        episode.append((state, action, reward))\n",
    "        state = next_state\n",
    "        if done:\n",
    "            break\n",
    "\n",
    "    states_in_episode = ([x[0] for x in episode])\n",
    "    for state in states_in_episode:\n",
    "        # Find the first occurance of the state in the episode\n",
    "        first_occurence_idx = next(i for i,x in enumerate(episode) if x[0] == state)\n",
    "        # Sum up all rewards since the first occurance\n",
    "        G = sum([x[2]*(g**i) for i,x in enumerate(episode[first_occurence_idx:])])\n",
    "        # Calculate average return for this state over all sampled episodes\n",
    "        returns_sum[state] += G\n",
    "        returns_count[state] += 1.0\n",
    "        V[state] = returns_sum[state] / returns_count[state]"
   ]
  },
  {
   "cell_type": "code",
   "execution_count": 4,
   "metadata": {},
   "outputs": [
    {
     "data": {
      "text/plain": [
       "[(8, 'up', -0.1),\n",
       " (4, 'left', -0.1),\n",
       " (4, 'right', -0.1),\n",
       " (4, 'down', -0.1),\n",
       " (8, 'right', -0.1),\n",
       " (9, 'down', -0.1),\n",
       " (9, 'left', -0.1),\n",
       " (8, 'down', -0.1),\n",
       " (8, 'down', -0.1),\n",
       " (8, 'up', -0.1),\n",
       " (4, 'down', -0.1),\n",
       " (8, 'up', -0.1),\n",
       " (4, 'down', -0.1),\n",
       " (8, 'left', -0.1),\n",
       " (8, 'left', -0.1),\n",
       " (8, 'up', -0.1),\n",
       " (4, 'down', -0.1),\n",
       " (8, 'down', -0.1),\n",
       " (8, 'left', -0.1),\n",
       " (8, 'right', -0.1),\n",
       " (9, 'up', -0.1),\n",
       " (9, 'right', -0.1),\n",
       " (10, 'up', -0.1),\n",
       " (6, 'up', -0.1),\n",
       " (2, 'up', -0.1),\n",
       " (2, 'down', -0.1),\n",
       " (6, 'right', -1)]"
      ]
     },
     "execution_count": 4,
     "metadata": {},
     "output_type": "execute_result"
    }
   ],
   "source": [
    "# Change the second value of episode to a string with following values:\n",
    "# 0: up, 1: right, 2: left, 3: down\n",
    "mapped_episode = copy.deepcopy(episode)\n",
    "for i in range(len(mapped_episode)):\n",
    "    if mapped_episode[i][1] == 0:\n",
    "        mapped_episode[i] = (mapped_episode[i][0], \"up\", mapped_episode[i][2])\n",
    "    elif mapped_episode[i][1] == 1:\n",
    "        mapped_episode[i] = (mapped_episode[i][0], \"right\", mapped_episode[i][2])\n",
    "    elif mapped_episode[i][1] == 2:\n",
    "        mapped_episode[i] = (mapped_episode[i][0], \"left\", mapped_episode[i][2])\n",
    "    elif mapped_episode[i][1] == 3:\n",
    "        mapped_episode[i] = (mapped_episode[i][0], \"down\", mapped_episode[i][2])\n",
    "mapped_episode"
   ]
  },
  {
   "cell_type": "code",
   "execution_count": 5,
   "metadata": {},
   "outputs": [
    {
     "data": {
      "image/png": "[encoded data removed]",
      "text/plain": [
       "<Figure size 1600x600 with 2 Axes>"
      ]
     },
     "metadata": {},
     "output_type": "display_data"
    }
   ],
   "source": [
    "# Plot of the grid with values of each state\n",
    "V = sorted(V.items(), key=lambda x: x[0])\n",
    "V = np.array([x[1] for x in V]).reshape(3, 4)\n",
    "\n",
    "plot_state_value_grid(V)\n"
   ]
  }
 ],
 "metadata": {
  "kernelspec": {
   "display_name": ".venv",
   "language": "python",
   "name": "python3"
  },
  "language_info": {
   "codemirror_mode": {
    "name": "ipython",
    "version": 3
   },
   "file_extension": ".py",
   "mimetype": "text/x-python",
   "name": "python",
   "nbconvert_exporter": "python",
   "pygments_lexer": "ipython3",
   "version": "3.11.10"
  }
 },
 "nbformat": 4,
 "nbformat_minor": 2
}
